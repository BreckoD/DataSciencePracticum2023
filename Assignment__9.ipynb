{
  "nbformat": 4,
  "nbformat_minor": 0,
  "metadata": {
    "colab": {
      "provenance": [],
      "include_colab_link": true
    },
    "kernelspec": {
      "name": "python3",
      "display_name": "Python 3"
    },
    "language_info": {
      "name": "python"
    }
  },
  "cells": [
    {
      "cell_type": "markdown",
      "metadata": {
        "id": "view-in-github",
        "colab_type": "text"
      },
      "source": [
        "<a href=\"https://colab.research.google.com/github/BreckoD/DataSciencePracticum2023/blob/main/Assignment__9.ipynb\" target=\"_parent\"><img src=\"https://colab.research.google.com/assets/colab-badge.svg\" alt=\"Open In Colab\"/></a>"
      ]
    },
    {
      "cell_type": "code",
      "execution_count": null,
      "metadata": {
        "id": "U2wKv25H1mu8",
        "colab": {
          "base_uri": "https://localhost:8080/"
        },
        "outputId": "fd0d1cbe-6dd6-4b86-9ae5-632691d81cc7"
      },
      "outputs": [
        {
          "output_type": "stream",
          "name": "stdout",
          "text": [
            "\u001b[2K     \u001b[90m━━━━━━━━━━━━━━━━━━━━━━━━━━━━━━━━━━━━━━━━\u001b[0m \u001b[32m220.3/220.3 kB\u001b[0m \u001b[31m3.9 MB/s\u001b[0m eta \u001b[36m0:00:00\u001b[0m\n",
            "\u001b[2K     \u001b[90m━━━━━━━━━━━━━━━━━━━━━━━━━━━━━━━━━━━━━━━━\u001b[0m \u001b[32m2.0/2.0 MB\u001b[0m \u001b[31m34.8 MB/s\u001b[0m eta \u001b[36m0:00:00\u001b[0m\n",
            "\u001b[2K     \u001b[90m━━━━━━━━━━━━━━━━━━━━━━━━━━━━━━━━━━━━━━━━\u001b[0m \u001b[32m75.0/75.0 kB\u001b[0m \u001b[31m9.6 MB/s\u001b[0m eta \u001b[36m0:00:00\u001b[0m\n",
            "\u001b[2K     \u001b[90m━━━━━━━━━━━━━━━━━━━━━━━━━━━━━━━━━━━━━━━━\u001b[0m \u001b[32m76.9/76.9 kB\u001b[0m \u001b[31m8.1 MB/s\u001b[0m eta \u001b[36m0:00:00\u001b[0m\n",
            "\u001b[2K     \u001b[90m━━━━━━━━━━━━━━━━━━━━━━━━━━━━━━━━━━━━━━━━\u001b[0m \u001b[32m58.3/58.3 kB\u001b[0m \u001b[31m6.9 MB/s\u001b[0m eta \u001b[36m0:00:00\u001b[0m\n",
            "\u001b[?25h\u001b[31mERROR: pip's dependency resolver does not currently take into account all the packages that are installed. This behaviour is the source of the following dependency conflicts.\n",
            "llmx 0.0.15a0 requires cohere, which is not installed.\u001b[0m\u001b[31m\n",
            "\u001b[0m"
          ]
        }
      ],
      "source": [
        "!pip install -qq openai tiktoken"
      ]
    },
    {
      "cell_type": "code",
      "source": [
        "import openai\n",
        "import tiktoken\n",
        "\n",
        "from openai import OpenAI\n",
        "from datetime import datetime"
      ],
      "metadata": {
        "id": "hXY2GcKWTH7h"
      },
      "execution_count": null,
      "outputs": []
    },
    {
      "cell_type": "code",
      "source": [
        "encoding = tiktoken.encoding_for_model('gpt-3.5-turbo')"
      ],
      "metadata": {
        "id": "nwxm1eTD2Eyc"
      },
      "execution_count": null,
      "outputs": []
    },
    {
      "cell_type": "code",
      "source": [
        "client = OpenAI(\n",
        "    api_key=\"*************************3BlbkFJrmq7*****************\",\n",
        ")"
      ],
      "metadata": {
        "id": "UutU5Vch2J-z"
      },
      "execution_count": null,
      "outputs": []
    },
    {
      "cell_type": "code",
      "source": [
        "def get_event_date_name(event_desc, model=\"gpt-3.5-turbo\"):\n",
        "\n",
        "  try:\n",
        "\n",
        "    response = client.chat.completions.create(\n",
        "        model = model,\n",
        "        temperature=0,\n",
        "        max_tokens = 150,\n",
        "        messages = [\n",
        "            {\"role\": \"system\", \"content\": \"You are the LLM that defines the name and date of the event from the news coverage.\"},\n",
        "            {\"role\": \"assistant\", \"content\": \"The name should be a string, the date is in %m/%d/%Y format . If a name or date is not present or unable to find, output None\"},\n",
        "            {\"role\": \"user\", \"content\": event_desc}\n",
        "            ]\n",
        "        )\n",
        "    response = response.choices[0].message.content\n",
        "    name, date = response.split('\\n')\n",
        "    output = dict((name.split(\": \"), date.split(\": \")))\n",
        "    if output['Date'] == 'None':\n",
        "      output['Date'] = None\n",
        "    else:\n",
        "        date_lst = output['Date'].split(' - ')\n",
        "        output['Date'] = [datetime.strptime(i, '%d/%m/%Y').date() for i in date_lst]\n",
        "\n",
        "    return output\n",
        "\n",
        "  except openai.APIError as e:\n",
        "    print(f\"OpenAI API returned an API Error: {e}\")\n",
        "    pass\n",
        "\n",
        "  except openai.RateLimitError as e:\n",
        "    print(f\"OpenAI API request exceeded rate limit: {e}\")\n",
        "    pass\n",
        "\n",
        "  except openai.APIConnectionError as e:\n",
        "    print(f\"Failed to connect to OpenAI API: {e}\")\n",
        "    pass\n"
      ],
      "metadata": {
        "id": "V6hczPJ25Y08"
      },
      "execution_count": null,
      "outputs": []
    },
    {
      "cell_type": "code",
      "source": [
        "event_desc_1 = \"\"\"\n",
        "The 23rd International Conference on Computational Science and Its Applications (ICCSA 2023) will be held on July 3 – 6, 2023 in collaboration with the National Technical University of Athens and University of the Aegean, Athens, Greece.\n",
        "ICCSA 2023 will be the next event in a series of highly successful International Conferences on Computational Science and Its Applications (ICCSA), previously held in Malaga, Spain (2022), Cagliari, Italy (2021), Online (2020), in Saint Petersburg, Russia (2019), Melbourne, Australia (2018), Trieste, Italy (2017), Beijing. China (2016), Banff, Canada (2015), Guimaraes, Portugal (2014), Ho Chi Minh City, Vietnam (2013), Salvador de Bahia, Brazil (2012), Santander, Spain (2011), Fukuoka, Japan (2010), Suwon, Korea (2009), Perugia, Italy (2008), Kuala Lumpur, Malaysia (2007), Glasgow, UK (2006), Singapore (2005), Assisi, Italy (2004), Montreal, Canada (2003), and (as ICCS) in Amsterdam, The Netherlands  (2002) and San Francisco, USA (2001). The first ICCSA conference was co-organized by C.J.K. Tan (UK) and M. Gavrilova (U of Calgary, Canada) in 2003.\n",
        "Computational Science is a main pillar of most present research, industrial and commercial activities and plays a unique role in exploiting innovative Information and Communication Technologies.\n",
        "The ICCSA Conference offers an opportunity to discuss new issues, tackle complex problems and find advanced solutions to enable shaping new trends in Computational Science.\n",
        "Submitted papers will be subject to stringent peer review by at least three experts and carefully evaluated based on originality, significance, technical soundness, and clarity of exposition.\n",
        "All accepted papers will be included in the Springer  Lecture Notes in Computer Science (LNCS)  series which is indexed by Scopus, EI Engineering Index, Thomson Reuters Conference Proceedings Citation Index (included in ISI Web of Science), and several other indexing services. The papers will contain linked references, XML versions and citable DOI numbers.\n",
        "\"\"\"\n",
        "\n",
        "name_date = get_event_date_name(event_desc_1)\n",
        "name_date"
      ],
      "metadata": {
        "colab": {
          "base_uri": "https://localhost:8080/"
        },
        "id": "0A7DYyLA92gu",
        "outputId": "62193992-2944-48e7-816e-14a5cd310c28"
      },
      "execution_count": null,
      "outputs": [
        {
          "output_type": "execute_result",
          "data": {
            "text/plain": [
              "{'Name': 'The 23rd International Conference on Computational Science and Its Applications (ICCSA 2023)',\n",
              " 'Date': [datetime.date(2023, 3, 7), datetime.date(2023, 6, 7)]}"
            ]
          },
          "metadata": {},
          "execution_count": 16
        }
      ]
    },
    {
      "cell_type": "code",
      "source": [
        "event_desc_2 = \"\"\"A number of \"Ohi Day\" celebrations went ahead on Monday in the Republic of Cyprus amid public confusion, following last-minute cancellations of school parades on the advice of weather officials.\n",
        "The education ministry issued an early morning announcement on Monday canceling all school parades following consultations with weather officials, who warned of rain chances and stormy weather in a last-minute yellow alert issued early Monday morning until late afternoon at 5pm.\"\"\"\n",
        "\n",
        "name_date = get_event_date_name(event_desc_2)\n",
        "name_date"
      ],
      "metadata": {
        "colab": {
          "base_uri": "https://localhost:8080/"
        },
        "id": "SAyxY2j8IEHp",
        "outputId": "55772843-7061-4d79-cc18-049d80a4b895"
      },
      "execution_count": null,
      "outputs": [
        {
          "output_type": "execute_result",
          "data": {
            "text/plain": [
              "{'Name': '\"Ohi Day\"', 'Date': None}"
            ]
          },
          "metadata": {},
          "execution_count": 9
        }
      ]
    },
    {
      "cell_type": "code",
      "source": [
        "event_desc_3 = \"\"\"The UK’s first ever Bicommunal Cypriot Festival was held with phenomenal success on Sunday 8 October at the Cypriot Community Centre, sending a resounding message that Greek and Turkish Cypriots can live united in their common homeland Cyprus.\n",
        "The event, jointly organized by AKEL in Britain, the Turkish Cypriot Association for Democracy, the Turkish Cypriot Republican Turkish Party (CTP), the Union of Cypriots in England (EKA), the Enfield Cypriots Association, the Cypriot Community Centre, the Turkish Cypriot Community Association (TCCA), the Hackney Cypriot Association (HCA), the Cyprus Art Platform – UK and the KaliMeraba Platform (CIC), was the first of its kind, aiming to reflect the common culture and traditions of all the communities living in Cyprus; there was a great ‘panygiri’ atmosphere with music, traditional dances, poems, theatrical performances, short films, ‘tsiatista’ and photographic and painting exhibitions on display.\"\"\"\n",
        "\n",
        "name_date = get_event_date_name(event_desc_3)\n",
        "name_date"
      ],
      "metadata": {
        "colab": {
          "base_uri": "https://localhost:8080/"
        },
        "id": "2KRwoEqlJKD2",
        "outputId": "f9015130-f4d9-49d6-8981-f7ada8236687"
      },
      "execution_count": null,
      "outputs": [
        {
          "output_type": "execute_result",
          "data": {
            "text/plain": [
              "{'Name': \"The UK's first ever Bicommunal Cypriot Festival\",\n",
              " 'Date': [datetime.date(2023, 8, 10)]}"
            ]
          },
          "metadata": {},
          "execution_count": 10
        }
      ]
    },
    {
      "cell_type": "code",
      "source": [],
      "metadata": {
        "id": "BEmQtC8N6kCU"
      },
      "execution_count": null,
      "outputs": []
    }
  ]
}